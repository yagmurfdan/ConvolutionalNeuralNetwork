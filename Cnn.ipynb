{
 "cells": [
  {
   "cell_type": "code",
   "execution_count": 1,
   "metadata": {},
   "outputs": [],
   "source": [
    "import os\n",
    "import numpy as np\n",
    "import tensorflow as tf\n",
    "from sklearn.model_selection import train_test_split\n",
    "from tensorflow.keras.preprocessing.image import img_to_array, load_img\n",
    "from tensorflow.keras.utils import to_categorical\n",
    "from tensorflow.keras.models import Sequential\n",
    "from tensorflow.keras.layers import Conv2D, MaxPooling2D, Flatten, Dense, Dropout\n",
    "from tensorflow.keras.preprocessing.image import ImageDataGenerator\n",
    "import matplotlib.pyplot as plt"
   ]
  },
  {
   "cell_type": "code",
   "execution_count": 3,
   "metadata": {},
   "outputs": [],
   "source": [
    "# Veri setinin bulunduğu dizin\n",
    "data_dir = \"kneedataset/\"\n",
    "\n",
    "# Görüntü boyutları\n",
    "img_width, img_height = 150, 150\n",
    "\n",
    "# Veri ve etiket listeleri\n",
    "data = []\n",
    "labels = []"
   ]
  },
  {
   "cell_type": "code",
   "execution_count": 4,
   "metadata": {},
   "outputs": [],
   "source": [
    "# Klasörlerdeki görüntüleri dolaşma\n",
    "for class_name in os.listdir(data_dir):\n",
    "    class_dir = os.path.join(data_dir, class_name)\n",
    "    if os.path.isdir(class_dir):\n",
    "        for image_name in os.listdir(class_dir):\n",
    "            image_path = os.path.join(class_dir, image_name)\n",
    "            image = load_img(image_path, target_size=(img_width, img_height))\n",
    "            image = img_to_array(image)\n",
    "            data.append(image)\n",
    "            labels.append(class_name)"
   ]
  },
  {
   "cell_type": "code",
   "execution_count": 5,
   "metadata": {},
   "outputs": [],
   "source": [
    "# Veri ve etiketleri numpy dizisine dönüştürme\n",
    "data = np.array(data, dtype=np.float32)\n",
    "labels = np.array(labels)\n",
    "\n",
    "# Etiketleri işleme\n",
    "label_mapping = {\n",
    "    '0Normal': 0,\n",
    "    '1Mild': 1,\n",
    "    '2Moderate': 2,\n",
    "    '3Severe': 3,\n",
    "    '4Doubtful': 4\n",
    "}"
   ]
  },
  {
   "cell_type": "code",
   "execution_count": 6,
   "metadata": {},
   "outputs": [],
   "source": [
    "labels_encoded = np.array([label_mapping[label] for label in labels])\n",
    "labels_encoded = to_categorical(labels_encoded)\n",
    "\n",
    "# Veri setini eğitim ve test olarak ayırma\n",
    "X_train, X_test, y_train, y_test = train_test_split(data, labels_encoded, test_size=0.2, random_state=42)"
   ]
  },
  {
   "cell_type": "code",
   "execution_count": 7,
   "metadata": {},
   "outputs": [],
   "source": [
    "# Görüntüleri normalize etme\n",
    "X_train = X_train / 255.0\n",
    "X_test = X_test / 255.0"
   ]
  },
  {
   "cell_type": "code",
   "execution_count": 16,
   "metadata": {},
   "outputs": [],
   "source": [
    "# Model oluşturma ve eğitim\n",
    "model = Sequential()\n",
    "model.add(Conv2D(32, (3, 3), activation='relu', input_shape=(img_height, img_width, 3)))\n",
    "model.add(MaxPooling2D((2, 2)))\n",
    "model.add(Conv2D(64, (3, 3), activation='elu'))\n",
    "model.add(MaxPooling2D((2, 2)))\n",
    "model.add(Conv2D(128, (3, 3), activation='relu'))\n",
    "model.add(MaxPooling2D((2, 2)))\n",
    "model.add(Conv2D(128, (3, 3), activation='relu'))\n",
    "model.add(MaxPooling2D((2, 2)))\n",
    "model.add(Flatten())\n",
    "model.add(Dense(512, activation='relu'))\n",
    "model2.add(Dropout(0.5))  # Add dropout layer with dropout rate of 0.5\n",
    "model.add(Dense(len(label_mapping), activation='softmax'))"
   ]
  },
  {
   "cell_type": "code",
   "execution_count": 19,
   "metadata": {},
   "outputs": [
    {
     "name": "stdout",
     "output_type": "stream",
     "text": [
      "Model: \"sequential_7\"\n",
      "_________________________________________________________________\n",
      " Layer (type)                Output Shape              Param #   \n",
      "=================================================================\n",
      " conv2d_22 (Conv2D)          (None, 148, 148, 64)      1792      \n",
      "                                                                 \n",
      " max_pooling2d_22 (MaxPoolin  (None, 74, 74, 64)       0         \n",
      " g2D)                                                            \n",
      "                                                                 \n",
      " conv2d_23 (Conv2D)          (None, 72, 72, 128)       73856     \n",
      "                                                                 \n",
      " max_pooling2d_23 (MaxPoolin  (None, 36, 36, 128)      0         \n",
      " g2D)                                                            \n",
      "                                                                 \n",
      " conv2d_24 (Conv2D)          (None, 34, 34, 256)       295168    \n",
      "                                                                 \n",
      " max_pooling2d_24 (MaxPoolin  (None, 17, 17, 256)      0         \n",
      " g2D)                                                            \n",
      "                                                                 \n",
      " conv2d_25 (Conv2D)          (None, 15, 15, 256)       590080    \n",
      "                                                                 \n",
      " max_pooling2d_25 (MaxPoolin  (None, 7, 7, 256)        0         \n",
      " g2D)                                                            \n",
      "                                                                 \n",
      " flatten_6 (Flatten)         (None, 12544)             0         \n",
      "                                                                 \n",
      " dense_14 (Dense)            (None, 1024)              12846080  \n",
      "                                                                 \n",
      " dropout_8 (Dropout)         (None, 1024)              0         \n",
      "                                                                 \n",
      " dense_15 (Dense)            (None, 512)               524800    \n",
      "                                                                 \n",
      " dropout_9 (Dropout)         (None, 512)               0         \n",
      "                                                                 \n",
      " dense_16 (Dense)            (None, 5)                 2565      \n",
      "                                                                 \n",
      "=================================================================\n",
      "Total params: 14,334,341\n",
      "Trainable params: 14,334,341\n",
      "Non-trainable params: 0\n",
      "_________________________________________________________________\n"
     ]
    }
   ],
   "source": [
    "model2 = Sequential()\n",
    "model2.add(Conv2D(64, (3, 3), activation='relu', input_shape=(img_height, img_width, 3)))\n",
    "model2.add(MaxPooling2D((2, 2)))\n",
    "model2.add(Conv2D(128, (3, 3), activation='relu'))\n",
    "model2.add(MaxPooling2D((2, 2)))\n",
    "model2.add(Conv2D(256, (3, 3), activation='relu'))\n",
    "model2.add(MaxPooling2D((2, 2)))\n",
    "model2.add(Conv2D(256, (3, 3), activation='sigmoid'))\n",
    "model2.add(MaxPooling2D((2, 2)))\n",
    "model2.add(Flatten())\n",
    "model2.add(Dense(1024, activation='relu'))\n",
    "model2.add(Dropout(0.5))  # Add dropout layer with dropout rate of 0.5\n",
    "model2.add(Dense(512, activation='relu'))\n",
    "model2.add(Dropout(0.5))  # Add dropout layer with dropout rate of 0.5\n",
    "model2.add(Dense(len(label_mapping), activation='softmax'))\n",
    "\n",
    "# Print model summary\n",
    "model2.summary()"
   ]
  },
  {
   "cell_type": "code",
   "execution_count": 22,
   "metadata": {},
   "outputs": [],
   "source": [
    "# Model oluşturma\n",
    "model3 = Sequential()\n",
    "model3.add(Conv2D(16, (3, 3), activation='relu', input_shape=(img_height, img_width, 3)))\n",
    "model3.add(MaxPooling2D((2, 2)))\n",
    "model3.add(Conv2D(32, (3, 3), activation='tanh'))\n",
    "model3.add(MaxPooling2D((2, 2)))\n",
    "model3.add(Flatten())\n",
    "model3.add(Dense(64, activation='relu'))\n",
    "model2.add(Dropout(0.5))  # Add dropout layer with dropout rate of 0.5\n",
    "model3.add(Dense(len(label_mapping), activation='softmax'))"
   ]
  },
  {
   "cell_type": "code",
   "execution_count": 33,
   "metadata": {},
   "outputs": [],
   "source": [
    "# Modeli derleme  #optimizer = adagrad \n",
    "model.compile(optimizer='sgd', loss='categorical_crossentropy', metrics=['accuracy'])"
   ]
  },
  {
   "cell_type": "code",
   "execution_count": 30,
   "metadata": {},
   "outputs": [],
   "source": [
    "# Modeli derleme\n",
    "model2.compile(optimizer='adam', loss='categorical_crossentropy', metrics=['accuracy'])"
   ]
  },
  {
   "cell_type": "code",
   "execution_count": 31,
   "metadata": {},
   "outputs": [],
   "source": [
    "# Modeli derleme\n",
    "model3.compile(optimizer='sgd', loss='categorical_crossentropy', metrics=['accuracy'])"
   ]
  },
  {
   "cell_type": "code",
   "execution_count": 34,
   "metadata": {},
   "outputs": [
    {
     "name": "stdout",
     "output_type": "stream",
     "text": [
      "Epoch 1/10\n",
      "42/42 [==============================] - 10s 223ms/step - loss: 1.3984 - accuracy: 0.4136 - val_loss: 1.3916 - val_accuracy: 0.3939\n",
      "Epoch 2/10\n",
      "42/42 [==============================] - 9s 209ms/step - loss: 1.2581 - accuracy: 0.4553 - val_loss: 1.4520 - val_accuracy: 0.3636\n",
      "Epoch 3/10\n",
      "42/42 [==============================] - 9s 208ms/step - loss: 1.1848 - accuracy: 0.5023 - val_loss: 1.3167 - val_accuracy: 0.4758\n",
      "Epoch 4/10\n",
      "42/42 [==============================] - 9s 209ms/step - loss: 1.1545 - accuracy: 0.5159 - val_loss: 1.3056 - val_accuracy: 0.4697\n",
      "Epoch 5/10\n",
      "42/42 [==============================] - 9s 209ms/step - loss: 1.1292 - accuracy: 0.5227 - val_loss: 1.3439 - val_accuracy: 0.4212\n",
      "Epoch 6/10\n",
      "42/42 [==============================] - 9s 206ms/step - loss: 1.1215 - accuracy: 0.5152 - val_loss: 1.3088 - val_accuracy: 0.4424\n",
      "Epoch 7/10\n",
      "42/42 [==============================] - 9s 212ms/step - loss: 1.1075 - accuracy: 0.5439 - val_loss: 1.2989 - val_accuracy: 0.4667\n",
      "Epoch 8/10\n",
      "42/42 [==============================] - 9s 210ms/step - loss: 1.0871 - accuracy: 0.5447 - val_loss: 1.2546 - val_accuracy: 0.4879\n",
      "Epoch 9/10\n",
      "42/42 [==============================] - 9s 225ms/step - loss: 1.0785 - accuracy: 0.5568 - val_loss: 1.3332 - val_accuracy: 0.4970\n",
      "Epoch 10/10\n",
      "42/42 [==============================] - 9s 208ms/step - loss: 1.0707 - accuracy: 0.5606 - val_loss: 1.3053 - val_accuracy: 0.5000\n"
     ]
    }
   ],
   "source": [
    "# Modeli eğitme\n",
    "history = model.fit(X_train, y_train, epochs=10, batch_size=32, validation_data=(X_test, y_test))"
   ]
  },
  {
   "cell_type": "code",
   "execution_count": 29,
   "metadata": {},
   "outputs": [
    {
     "name": "stdout",
     "output_type": "stream",
     "text": [
      "Epoch 1/10\n",
      "42/42 [==============================] - 29s 670ms/step - loss: nan - accuracy: 0.2977 - val_loss: nan - val_accuracy: 0.3515\n",
      "Epoch 2/10\n",
      "42/42 [==============================] - 28s 675ms/step - loss: nan - accuracy: 0.3015 - val_loss: nan - val_accuracy: 0.3515\n",
      "Epoch 3/10\n",
      "42/42 [==============================] - 29s 695ms/step - loss: nan - accuracy: 0.3015 - val_loss: nan - val_accuracy: 0.3515\n",
      "Epoch 4/10\n",
      "42/42 [==============================] - 28s 671ms/step - loss: nan - accuracy: 0.3015 - val_loss: nan - val_accuracy: 0.3515\n",
      "Epoch 5/10\n",
      "42/42 [==============================] - 28s 669ms/step - loss: nan - accuracy: 0.3015 - val_loss: nan - val_accuracy: 0.3515\n",
      "Epoch 6/10\n",
      "42/42 [==============================] - 30s 705ms/step - loss: nan - accuracy: 0.3015 - val_loss: nan - val_accuracy: 0.3515\n",
      "Epoch 7/10\n",
      "42/42 [==============================] - 29s 701ms/step - loss: nan - accuracy: 0.3015 - val_loss: nan - val_accuracy: 0.3515\n",
      "Epoch 8/10\n",
      "42/42 [==============================] - 29s 689ms/step - loss: nan - accuracy: 0.3015 - val_loss: nan - val_accuracy: 0.3515\n",
      "Epoch 9/10\n",
      "42/42 [==============================] - 29s 688ms/step - loss: nan - accuracy: 0.3015 - val_loss: nan - val_accuracy: 0.3515\n",
      "Epoch 10/10\n",
      "42/42 [==============================] - 29s 692ms/step - loss: nan - accuracy: 0.3015 - val_loss: nan - val_accuracy: 0.3515\n"
     ]
    }
   ],
   "source": [
    "# Modeli eğitme\n",
    "history2 = model2.fit(X_train, y_train, epochs=10, batch_size=32, validation_data=(X_test, y_test))"
   ]
  },
  {
   "cell_type": "code",
   "execution_count": 32,
   "metadata": {},
   "outputs": [
    {
     "name": "stdout",
     "output_type": "stream",
     "text": [
      "Epoch 1/10\n",
      "42/42 [==============================] - 4s 88ms/step - loss: 4.6678 - accuracy: 0.2871 - val_loss: 1.6053 - val_accuracy: 0.2576\n",
      "Epoch 2/10\n",
      "42/42 [==============================] - 4s 92ms/step - loss: 1.5942 - accuracy: 0.2970 - val_loss: 1.5921 - val_accuracy: 0.2606\n",
      "Epoch 3/10\n",
      "42/42 [==============================] - 4s 84ms/step - loss: 1.5823 - accuracy: 0.2955 - val_loss: 1.5831 - val_accuracy: 0.2576\n",
      "Epoch 4/10\n",
      "42/42 [==============================] - 3s 78ms/step - loss: 1.5726 - accuracy: 0.2955 - val_loss: 1.5741 - val_accuracy: 0.2576\n",
      "Epoch 5/10\n",
      "42/42 [==============================] - 3s 75ms/step - loss: 1.5649 - accuracy: 0.2955 - val_loss: 1.5681 - val_accuracy: 0.2576\n",
      "Epoch 6/10\n",
      "42/42 [==============================] - 3s 76ms/step - loss: 1.5586 - accuracy: 0.2955 - val_loss: 1.5631 - val_accuracy: 0.2576\n",
      "Epoch 7/10\n",
      "42/42 [==============================] - 3s 81ms/step - loss: 1.5537 - accuracy: 0.2955 - val_loss: 1.5572 - val_accuracy: 0.2576\n",
      "Epoch 8/10\n",
      "42/42 [==============================] - 4s 90ms/step - loss: 1.5491 - accuracy: 0.2962 - val_loss: 1.5531 - val_accuracy: 0.2576\n",
      "Epoch 9/10\n",
      "42/42 [==============================] - 3s 77ms/step - loss: 1.5455 - accuracy: 0.2939 - val_loss: 1.5467 - val_accuracy: 0.3485\n",
      "Epoch 10/10\n",
      "42/42 [==============================] - 4s 89ms/step - loss: 1.5422 - accuracy: 0.3068 - val_loss: 1.5468 - val_accuracy: 0.3485\n"
     ]
    }
   ],
   "source": [
    "# Modeli eğitme\n",
    "history3 = model3.fit(X_train, y_train, epochs=10, batch_size=32, validation_data=(X_test, y_test))"
   ]
  },
  {
   "cell_type": "code",
   "execution_count": 11,
   "metadata": {},
   "outputs": [
    {
     "data": {
      "image/png": "[encoded data removed]",
      "text/plain": [
       "<Figure size 432x288 with 1 Axes>"
      ]
     },
     "metadata": {
      "needs_background": "light"
     },
     "output_type": "display_data"
    },
    {
     "data": {
      "image/png": "[encoded data removed]",
      "text/plain": [
       "<Figure size 432x288 with 1 Axes>"
      ]
     },
     "metadata": {
      "needs_background": "light"
     },
     "output_type": "display_data"
    }
   ],
   "source": [
    "#burada history,history2 veya history3 grafikleri yazdırılabilir\n",
    "accuracy = history.history['accuracy']\n",
    "val_accuracy = history.history['val_accuracy']\n",
    "\n",
    "# Loss değerlerini al\n",
    "loss = history.history['loss']\n",
    "val_loss = history.history['val_loss']\n",
    "\n",
    "# Accuracy grafiği\n",
    "plt.plot(accuracy, label='Training Accuracy')\n",
    "plt.plot(val_accuracy, label='Validation Accuracy')\n",
    "plt.title('Training and Validation Accuracy')\n",
    "plt.xlabel('Epoch')\n",
    "plt.ylabel('Accuracy')\n",
    "plt.legend()\n",
    "plt.show()\n",
    "\n",
    "# Loss grafiği\n",
    "plt.plot(loss, label='Training Loss')\n",
    "plt.plot(val_loss, label='Validation Loss')\n",
    "plt.title('Training and Validation Loss')\n",
    "plt.xlabel('Epoch')\n",
    "plt.ylabel('Loss')\n",
    "plt.legend()\n",
    "plt.show()"
   ]
  },
  {
   "cell_type": "code",
   "execution_count": 35,
   "metadata": {},
   "outputs": [],
   "source": [
    "model.save(\"model.h5\")\n",
    "model2.save(\"model2.h5\")\n",
    "model3.save(\"model3.h5\")"
   ]
  },
  {
   "cell_type": "code",
   "execution_count": null,
   "metadata": {},
   "outputs": [],
   "source": []
  }
 ],
 "metadata": {
  "kernelspec": {
   "display_name": "Python 3 (ipykernel)",
   "language": "python",
   "name": "python3"
  },
  "language_info": {
   "codemirror_mode": {
    "name": "ipython",
    "version": 3
   },
   "file_extension": ".py",
   "mimetype": "text/x-python",
   "name": "python",
   "nbconvert_exporter": "python",
   "pygments_lexer": "ipython3",
   "version": "3.9.7"
  }
 },
 "nbformat": 4,
 "nbformat_minor": 4
}
